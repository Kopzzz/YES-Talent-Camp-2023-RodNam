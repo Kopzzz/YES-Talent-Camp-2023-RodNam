{
 "cells": [
  {
   "cell_type": "code",
   "execution_count": 1,
   "metadata": {},
   "outputs": [],
   "source": [
    "import warnings\n",
    "warnings.filterwarnings('ignore')\n",
    "\n",
    "import pandas as pd\n",
    "import numpy as np\n",
    "import matplotlib.pyplot as plt\n",
    "import seaborn as sns\n",
    "import matplotlib\n",
    "\n",
    "import lightgbm as lgb\n",
    "from sklearn.model_selection import train_test_split, TimeSeriesSplit, GridSearchCV\n",
    "from sklearn.metrics import r2_score, mean_squared_error, mean_absolute_error, max_error\n",
    "\n",
    "import pickle\n"
   ]
  },
  {
   "cell_type": "code",
   "execution_count": 2,
   "metadata": {},
   "outputs": [
    {
     "data": {
      "text/html": [
       "<div>\n",
       "<style scoped>\n",
       "    .dataframe tbody tr th:only-of-type {\n",
       "        vertical-align: middle;\n",
       "    }\n",
       "\n",
       "    .dataframe tbody tr th {\n",
       "        vertical-align: top;\n",
       "    }\n",
       "\n",
       "    .dataframe thead th {\n",
       "        text-align: right;\n",
       "    }\n",
       "</style>\n",
       "<table border=\"1\" class=\"dataframe\">\n",
       "  <thead>\n",
       "    <tr style=\"text-align: right;\">\n",
       "      <th></th>\n",
       "      <th>temperature_2m_max (°C)</th>\n",
       "      <th>temperature_2m_mean (°C)</th>\n",
       "      <th>apparent_temperature_max (°C)</th>\n",
       "      <th>precipitation_sum (mm)</th>\n",
       "      <th>rain_sum (mm)</th>\n",
       "      <th>precipitation_hours (h)</th>\n",
       "      <th>shortwave_radiation_sum (MJ/m²)</th>\n",
       "      <th>et0</th>\n",
       "    </tr>\n",
       "  </thead>\n",
       "  <tbody>\n",
       "    <tr>\n",
       "      <th>0</th>\n",
       "      <td>31.3</td>\n",
       "      <td>25.9</td>\n",
       "      <td>34.8</td>\n",
       "      <td>0.0</td>\n",
       "      <td>0.0</td>\n",
       "      <td>0.0</td>\n",
       "      <td>17.41</td>\n",
       "      <td>3.90</td>\n",
       "    </tr>\n",
       "    <tr>\n",
       "      <th>1</th>\n",
       "      <td>32.5</td>\n",
       "      <td>28.2</td>\n",
       "      <td>36.0</td>\n",
       "      <td>0.2</td>\n",
       "      <td>0.2</td>\n",
       "      <td>1.0</td>\n",
       "      <td>15.43</td>\n",
       "      <td>3.69</td>\n",
       "    </tr>\n",
       "    <tr>\n",
       "      <th>2</th>\n",
       "      <td>32.4</td>\n",
       "      <td>27.0</td>\n",
       "      <td>35.3</td>\n",
       "      <td>0.0</td>\n",
       "      <td>0.0</td>\n",
       "      <td>0.0</td>\n",
       "      <td>18.64</td>\n",
       "      <td>4.34</td>\n",
       "    </tr>\n",
       "    <tr>\n",
       "      <th>3</th>\n",
       "      <td>32.3</td>\n",
       "      <td>28.1</td>\n",
       "      <td>36.4</td>\n",
       "      <td>0.1</td>\n",
       "      <td>0.1</td>\n",
       "      <td>1.0</td>\n",
       "      <td>15.47</td>\n",
       "      <td>3.52</td>\n",
       "    </tr>\n",
       "    <tr>\n",
       "      <th>4</th>\n",
       "      <td>31.4</td>\n",
       "      <td>26.3</td>\n",
       "      <td>35.4</td>\n",
       "      <td>0.0</td>\n",
       "      <td>0.0</td>\n",
       "      <td>0.0</td>\n",
       "      <td>17.40</td>\n",
       "      <td>3.99</td>\n",
       "    </tr>\n",
       "  </tbody>\n",
       "</table>\n",
       "</div>"
      ],
      "text/plain": [
       "   temperature_2m_max (°C)  temperature_2m_mean (°C)  \\\n",
       "0                     31.3                      25.9   \n",
       "1                     32.5                      28.2   \n",
       "2                     32.4                      27.0   \n",
       "3                     32.3                      28.1   \n",
       "4                     31.4                      26.3   \n",
       "\n",
       "   apparent_temperature_max (°C)  precipitation_sum (mm)  rain_sum (mm)  \\\n",
       "0                           34.8                     0.0            0.0   \n",
       "1                           36.0                     0.2            0.2   \n",
       "2                           35.3                     0.0            0.0   \n",
       "3                           36.4                     0.1            0.1   \n",
       "4                           35.4                     0.0            0.0   \n",
       "\n",
       "   precipitation_hours (h)  shortwave_radiation_sum (MJ/m²)   et0  \n",
       "0                      0.0                            17.41  3.90  \n",
       "1                      1.0                            15.43  3.69  \n",
       "2                      0.0                            18.64  4.34  \n",
       "3                      1.0                            15.47  3.52  \n",
       "4                      0.0                            17.40  3.99  "
      ]
     },
     "execution_count": 2,
     "metadata": {},
     "output_type": "execute_result"
    }
   ],
   "source": [
    "df_train = pd.read_csv('../datasets/pre_train.csv')\n",
    "df_train.head()"
   ]
  },
  {
   "cell_type": "code",
   "execution_count": 3,
   "metadata": {},
   "outputs": [
    {
     "data": {
      "text/html": [
       "<div>\n",
       "<style scoped>\n",
       "    .dataframe tbody tr th:only-of-type {\n",
       "        vertical-align: middle;\n",
       "    }\n",
       "\n",
       "    .dataframe tbody tr th {\n",
       "        vertical-align: top;\n",
       "    }\n",
       "\n",
       "    .dataframe thead th {\n",
       "        text-align: right;\n",
       "    }\n",
       "</style>\n",
       "<table border=\"1\" class=\"dataframe\">\n",
       "  <thead>\n",
       "    <tr style=\"text-align: right;\">\n",
       "      <th></th>\n",
       "      <th>temperature_2m_max (°C)</th>\n",
       "      <th>temperature_2m_mean (°C)</th>\n",
       "      <th>apparent_temperature_max (°C)</th>\n",
       "      <th>precipitation_sum (mm)</th>\n",
       "      <th>rain_sum (mm)</th>\n",
       "      <th>precipitation_hours (h)</th>\n",
       "      <th>shortwave_radiation_sum (MJ/m²)</th>\n",
       "      <th>et0</th>\n",
       "    </tr>\n",
       "  </thead>\n",
       "  <tbody>\n",
       "    <tr>\n",
       "      <th>0</th>\n",
       "      <td>31.1</td>\n",
       "      <td>26.0</td>\n",
       "      <td>34.3</td>\n",
       "      <td>0.0</td>\n",
       "      <td>0.0</td>\n",
       "      <td>0.0</td>\n",
       "      <td>15.15</td>\n",
       "      <td>3.58</td>\n",
       "    </tr>\n",
       "    <tr>\n",
       "      <th>1</th>\n",
       "      <td>31.8</td>\n",
       "      <td>26.7</td>\n",
       "      <td>35.0</td>\n",
       "      <td>0.0</td>\n",
       "      <td>0.0</td>\n",
       "      <td>0.0</td>\n",
       "      <td>16.65</td>\n",
       "      <td>3.87</td>\n",
       "    </tr>\n",
       "    <tr>\n",
       "      <th>2</th>\n",
       "      <td>30.3</td>\n",
       "      <td>26.4</td>\n",
       "      <td>32.5</td>\n",
       "      <td>0.0</td>\n",
       "      <td>0.0</td>\n",
       "      <td>0.0</td>\n",
       "      <td>14.26</td>\n",
       "      <td>3.70</td>\n",
       "    </tr>\n",
       "    <tr>\n",
       "      <th>3</th>\n",
       "      <td>30.7</td>\n",
       "      <td>25.9</td>\n",
       "      <td>34.4</td>\n",
       "      <td>0.0</td>\n",
       "      <td>0.0</td>\n",
       "      <td>0.0</td>\n",
       "      <td>16.17</td>\n",
       "      <td>3.55</td>\n",
       "    </tr>\n",
       "    <tr>\n",
       "      <th>4</th>\n",
       "      <td>31.7</td>\n",
       "      <td>27.0</td>\n",
       "      <td>35.2</td>\n",
       "      <td>0.0</td>\n",
       "      <td>0.0</td>\n",
       "      <td>0.0</td>\n",
       "      <td>15.36</td>\n",
       "      <td>3.50</td>\n",
       "    </tr>\n",
       "  </tbody>\n",
       "</table>\n",
       "</div>"
      ],
      "text/plain": [
       "   temperature_2m_max (°C)  temperature_2m_mean (°C)  \\\n",
       "0                     31.1                      26.0   \n",
       "1                     31.8                      26.7   \n",
       "2                     30.3                      26.4   \n",
       "3                     30.7                      25.9   \n",
       "4                     31.7                      27.0   \n",
       "\n",
       "   apparent_temperature_max (°C)  precipitation_sum (mm)  rain_sum (mm)  \\\n",
       "0                           34.3                     0.0            0.0   \n",
       "1                           35.0                     0.0            0.0   \n",
       "2                           32.5                     0.0            0.0   \n",
       "3                           34.4                     0.0            0.0   \n",
       "4                           35.2                     0.0            0.0   \n",
       "\n",
       "   precipitation_hours (h)  shortwave_radiation_sum (MJ/m²)   et0  \n",
       "0                      0.0                            15.15  3.58  \n",
       "1                      0.0                            16.65  3.87  \n",
       "2                      0.0                            14.26  3.70  \n",
       "3                      0.0                            16.17  3.55  \n",
       "4                      0.0                            15.36  3.50  "
      ]
     },
     "execution_count": 3,
     "metadata": {},
     "output_type": "execute_result"
    }
   ],
   "source": [
    "df = pd.read_csv('../datasets/province/kalasin.csv', skiprows=3)\n",
    "df = df.dropna()\n",
    "df = df.rename(columns={'et0_fao_evapotranspiration (mm)':'et0'})\n",
    "df = df[df_train.columns]\n",
    "df.head()"
   ]
  },
  {
   "cell_type": "code",
   "execution_count": 4,
   "metadata": {},
   "outputs": [],
   "source": [
    "X_test = df.drop(columns=['et0'])\n",
    "y_test  = df['et0']"
   ]
  },
  {
   "cell_type": "code",
   "execution_count": 5,
   "metadata": {},
   "outputs": [],
   "source": [
    "with open('../datasets/lgbm_model.pkl', 'rb') as file:\n",
    "    model = pickle.load(file)"
   ]
  },
  {
   "cell_type": "code",
   "execution_count": 6,
   "metadata": {},
   "outputs": [],
   "source": [
    "y_pred = model.predict(X_test, num_iteration=model.best_iteration)"
   ]
  },
  {
   "cell_type": "code",
   "execution_count": 7,
   "metadata": {},
   "outputs": [
    {
     "name": "stdout",
     "output_type": "stream",
     "text": [
      "R-squared (R2) Score: 0.9744257033066656\n",
      "Root Mean Squared Error (RMSE): 0.19417655742667161\n",
      "Mean Absolute Percentage Error (MAPE): 3.14%\n",
      "Max Error: 1.3339183527188165\n"
     ]
    }
   ],
   "source": [
    "r2 = r2_score(y_test, y_pred)\n",
    "rmse = np.sqrt(mean_squared_error(y_test, y_pred))\n",
    "\n",
    "absolute_percentage_errors = np.abs((y_test -  y_pred) / y_test)\n",
    "mape = np.mean(absolute_percentage_errors) * 100  #\n",
    "max_err = max_error(y_test, y_pred)\n",
    "\n",
    "print(f\"R-squared (R2) Score: {r2}\")\n",
    "print(f\"Root Mean Squared Error (RMSE): {rmse}\")\n",
    "print(f\"Mean Absolute Percentage Error (MAPE): {mape:.2f}%\")\n",
    "print(\"Max Error:\", max_err)"
   ]
  },
  {
   "cell_type": "code",
   "execution_count": 8,
   "metadata": {},
   "outputs": [
    {
     "data": {
      "text/plain": [
       "5000"
      ]
     },
     "execution_count": 8,
     "metadata": {},
     "output_type": "execute_result"
    }
   ],
   "source": [
    "len(y_pred)"
   ]
  },
  {
   "cell_type": "code",
   "execution_count": 9,
   "metadata": {},
   "outputs": [
    {
     "data": {
      "text/plain": [
       "0       3.58\n",
       "1       3.87\n",
       "2       3.70\n",
       "3       3.55\n",
       "4       3.50\n",
       "        ... \n",
       "4995    3.01\n",
       "4996    1.72\n",
       "4997    1.27\n",
       "4998    1.54\n",
       "4999    2.47\n",
       "Name: et0, Length: 5000, dtype: float64"
      ]
     },
     "execution_count": 9,
     "metadata": {},
     "output_type": "execute_result"
    }
   ],
   "source": [
    "y_test"
   ]
  },
  {
   "cell_type": "code",
   "execution_count": 10,
   "metadata": {},
   "outputs": [],
   "source": [
    "lst_save = []\n",
    "lst_water = []\n",
    "for i in range(12):\n",
    "    water_used = 0\n",
    "    for et in y_test[(i*365)+90:(i*365)+90+270]:\n",
    "        water_used += et * 0.71\n",
    "        \n",
    "    lst_save.append(1016 - water_used)\n",
    "    lst_water.append(water_used)"
   ]
  },
  {
   "cell_type": "code",
   "execution_count": 11,
   "metadata": {},
   "outputs": [],
   "source": [
    "lst_save = []\n",
    "lst_water = []\n",
    "for i in range(12):\n",
    "    water_used = 0\n",
    "    for et in y_test[(i*365)+90:(i*365)+90+270]:\n",
    "        water_used += et * 0.71\n",
    "        \n",
    "    lst_save.append(1016 - water_used)\n",
    "    lst_water.append(water_used)"
   ]
  },
  {
   "cell_type": "code",
   "execution_count": 12,
   "metadata": {},
   "outputs": [],
   "source": [
    "lst_save = []\n",
    "lst_water = []\n",
    "for i in range(12):\n",
    "    water_used = 0\n",
    "    for et in y_test[(i*365)+90:(i*365)+90+270]:\n",
    "        water_used += et * 0.71\n",
    "        \n",
    "    lst_save.append(1016 - water_used)\n",
    "    lst_water.append(water_used)"
   ]
  },
  {
   "cell_type": "code",
   "execution_count": 13,
   "metadata": {},
   "outputs": [
    {
     "data": {
      "text/html": [
       "<div>\n",
       "<style scoped>\n",
       "    .dataframe tbody tr th:only-of-type {\n",
       "        vertical-align: middle;\n",
       "    }\n",
       "\n",
       "    .dataframe tbody tr th {\n",
       "        vertical-align: top;\n",
       "    }\n",
       "\n",
       "    .dataframe thead th {\n",
       "        text-align: right;\n",
       "    }\n",
       "</style>\n",
       "<table border=\"1\" class=\"dataframe\">\n",
       "  <thead>\n",
       "    <tr style=\"text-align: right;\">\n",
       "      <th></th>\n",
       "      <th>water_used</th>\n",
       "      <th>save</th>\n",
       "      <th>save%</th>\n",
       "    </tr>\n",
       "  </thead>\n",
       "  <tbody>\n",
       "    <tr>\n",
       "      <th>0</th>\n",
       "      <td>807.1138</td>\n",
       "      <td>208.8862</td>\n",
       "      <td>20.559665</td>\n",
       "    </tr>\n",
       "    <tr>\n",
       "      <th>1</th>\n",
       "      <td>743.1783</td>\n",
       "      <td>272.8217</td>\n",
       "      <td>26.852530</td>\n",
       "    </tr>\n",
       "    <tr>\n",
       "      <th>2</th>\n",
       "      <td>785.8990</td>\n",
       "      <td>230.1010</td>\n",
       "      <td>22.647736</td>\n",
       "    </tr>\n",
       "    <tr>\n",
       "      <th>3</th>\n",
       "      <td>795.5763</td>\n",
       "      <td>220.4237</td>\n",
       "      <td>21.695246</td>\n",
       "    </tr>\n",
       "    <tr>\n",
       "      <th>4</th>\n",
       "      <td>790.4004</td>\n",
       "      <td>225.5996</td>\n",
       "      <td>22.204685</td>\n",
       "    </tr>\n",
       "    <tr>\n",
       "      <th>5</th>\n",
       "      <td>851.8580</td>\n",
       "      <td>164.1420</td>\n",
       "      <td>16.155709</td>\n",
       "    </tr>\n",
       "    <tr>\n",
       "      <th>6</th>\n",
       "      <td>822.8048</td>\n",
       "      <td>193.1952</td>\n",
       "      <td>19.015276</td>\n",
       "    </tr>\n",
       "    <tr>\n",
       "      <th>7</th>\n",
       "      <td>750.4984</td>\n",
       "      <td>265.5016</td>\n",
       "      <td>26.132047</td>\n",
       "    </tr>\n",
       "    <tr>\n",
       "      <th>8</th>\n",
       "      <td>804.9341</td>\n",
       "      <td>211.0659</td>\n",
       "      <td>20.774203</td>\n",
       "    </tr>\n",
       "    <tr>\n",
       "      <th>9</th>\n",
       "      <td>874.5283</td>\n",
       "      <td>141.4717</td>\n",
       "      <td>13.924380</td>\n",
       "    </tr>\n",
       "    <tr>\n",
       "      <th>10</th>\n",
       "      <td>827.5831</td>\n",
       "      <td>188.4169</td>\n",
       "      <td>18.544970</td>\n",
       "    </tr>\n",
       "    <tr>\n",
       "      <th>11</th>\n",
       "      <td>815.8255</td>\n",
       "      <td>200.1745</td>\n",
       "      <td>19.702215</td>\n",
       "    </tr>\n",
       "  </tbody>\n",
       "</table>\n",
       "</div>"
      ],
      "text/plain": [
       "    water_used      save      save%\n",
       "0     807.1138  208.8862  20.559665\n",
       "1     743.1783  272.8217  26.852530\n",
       "2     785.8990  230.1010  22.647736\n",
       "3     795.5763  220.4237  21.695246\n",
       "4     790.4004  225.5996  22.204685\n",
       "5     851.8580  164.1420  16.155709\n",
       "6     822.8048  193.1952  19.015276\n",
       "7     750.4984  265.5016  26.132047\n",
       "8     804.9341  211.0659  20.774203\n",
       "9     874.5283  141.4717  13.924380\n",
       "10    827.5831  188.4169  18.544970\n",
       "11    815.8255  200.1745  19.702215"
      ]
     },
     "execution_count": 13,
     "metadata": {},
     "output_type": "execute_result"
    }
   ],
   "source": [
    "df_save = pd.DataFrame()\n",
    "df_save['water_used'] = lst_water\n",
    "df_save['save'] = lst_save\n",
    "df_save['save%'] = (1016 - df_save['water_used']) / 1016 * 100\n",
    "df_save"
   ]
  },
  {
   "cell_type": "code",
   "execution_count": 14,
   "metadata": {},
   "outputs": [
    {
     "data": {
      "text/plain": [
       "20.684055118110262"
      ]
     },
     "execution_count": 14,
     "metadata": {},
     "output_type": "execute_result"
    }
   ],
   "source": [
    "df_save['save%'].mean()"
   ]
  },
  {
   "cell_type": "code",
   "execution_count": 36,
   "metadata": {},
   "outputs": [
    {
     "data": {
      "image/png": "[encoded data removed]",
      "text/plain": [
       "<Figure size 640x480 with 1 Axes>"
      ]
     },
     "metadata": {},
     "output_type": "display_data"
    }
   ],
   "source": [
    "plt.scatter(df_save.index, df_save['water_used'], label='Watering recommended')\n",
    "\n",
    "plt.xlabel('Round')\n",
    "plt.ylabel('Water Used (mm.)')\n",
    "plt.axhline(y=1016, color='r', linestyle='--', label='Basedline water used')\n",
    "\n",
    "plt.legend()\n",
    "plt.show()"
   ]
  },
  {
   "cell_type": "code",
   "execution_count": 85,
   "metadata": {},
   "outputs": [
    {
     "name": "stdout",
     "output_type": "stream",
     "text": [
      "936.8642938425783\n",
      "908.1682845818925\n",
      "865.6973954266496\n",
      "915.1032139656401\n",
      "863.1023221289144\n",
      "902.2191949068905\n",
      "987.7552469871398\n",
      "995.7224091395475\n",
      "894.3983047580465\n",
      "820.5469855492273\n",
      "888.2926241939568\n",
      "1011.6737208115494\n",
      "1029.0901081151605\n",
      "933.2993323871107\n",
      "887.5474624035738\n",
      "851.2687167968945\n"
     ]
    }
   ],
   "source": [
    "for i in range(16):\n",
    "    water_used = 0\n",
    "    for et in y_pred[i*300:(i*300)+300]:\n",
    "        water_used += et * 0.71\n",
    "    print(water_used)"
   ]
  },
  {
   "cell_type": "code",
   "execution_count": 39,
   "metadata": {},
   "outputs": [
    {
     "data": {
      "text/plain": [
       "4.33699246568404"
      ]
     },
     "execution_count": 39,
     "metadata": {},
     "output_type": "execute_result"
    }
   ],
   "source": [
    "y_pred.mean()"
   ]
  }
 ],
 "metadata": {
  "kernelspec": {
   "display_name": "Python 3",
   "language": "python",
   "name": "python3"
  },
  "language_info": {
   "codemirror_mode": {
    "name": "ipython",
    "version": 3
   },
   "file_extension": ".py",
   "mimetype": "text/x-python",
   "name": "python",
   "nbconvert_exporter": "python",
   "pygments_lexer": "ipython3",
   "version": "3.8.0"
  },
  "orig_nbformat": 4
 },
 "nbformat": 4,
 "nbformat_minor": 2
}
