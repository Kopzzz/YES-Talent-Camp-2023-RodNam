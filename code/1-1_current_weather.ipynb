{
 "cells": [
  {
   "cell_type": "code",
   "execution_count": 7,
   "metadata": {},
   "outputs": [],
   "source": [
    "import warnings\n",
    "warnings.filterwarnings('ignore')\n",
    "\n",
    "import pandas as pd\n",
    "import numpy as np\n",
    "import matplotlib.pyplot as plt\n",
    "import seaborn as sns\n",
    "\n",
    "import requests"
   ]
  },
  {
   "cell_type": "code",
   "execution_count": 40,
   "metadata": {},
   "outputs": [],
   "source": [
    "# url = 'https://api.openweathermap.org/data/3.0/onecall'\n",
    "url = 'https://api.openweathermap.org/data/2.5/weather'\n",
    "body = {\n",
    "    \"lat\": 13.8389566,\n",
    "    \"lon\": 102.565224,\n",
    "    \"appid\": 'b5d64b376f493b3cab4dce8f4e75560c'\n",
    "}\n",
    "\n",
    "r = requests.get(url, params=body, verify=False)\n",
    "payload = r.json()"
   ]
  },
  {
   "cell_type": "code",
   "execution_count": 43,
   "metadata": {},
   "outputs": [],
   "source": [
    "# url = 'https://api.openweathermap.org/data/3.0/onecall'\n",
    "url = 'https://api.openweathermap.org/data/2.5/weather'\n",
    "body = {\n",
    "    \"lat\": 12.9178,\n",
    "    \"lon\": 100932.8947806,\n",
    "    \"appid\": 'b5d64b376f493b3cab4dce8f4e75560c'\n",
    "}\n",
    "\n",
    "r = requests.get(url, params=body, verify=False)\n",
    "payload = r.json()"
   ]
  },
  {
   "cell_type": "code",
   "execution_count": 46,
   "metadata": {},
   "outputs": [
    {
     "data": {
      "text/plain": [
       "{'coord': {'lon': 100.8948, 'lat': 12.9329},\n",
       " 'weather': [{'id': 804,\n",
       "   'main': 'Clouds',\n",
       "   'description': 'overcast clouds',\n",
       "   'icon': '04n'}],\n",
       " 'base': 'stations',\n",
       " 'main': {'temp': 301.1,\n",
       "  'feels_like': 304.97,\n",
       "  'temp_min': 301.1,\n",
       "  'temp_max': 301.1,\n",
       "  'pressure': 1007,\n",
       "  'humidity': 79,\n",
       "  'sea_level': 1007,\n",
       "  'grnd_level': 1004},\n",
       " 'visibility': 10000,\n",
       " 'wind': {'speed': 6.53, 'deg': 270, 'gust': 9.34},\n",
       " 'clouds': {'all': 100},\n",
       " 'dt': 1694802772,\n",
       " 'sys': {'type': 1,\n",
       "  'id': 9247,\n",
       "  'country': 'TH',\n",
       "  'sunrise': 1694819136,\n",
       "  'sunset': 1694863062},\n",
       " 'timezone': 25200,\n",
       " 'id': 1614295,\n",
       " 'name': 'Pattaya',\n",
       " 'cod': 200}"
      ]
     },
     "execution_count": 46,
     "metadata": {},
     "output_type": "execute_result"
    }
   ],
   "source": [
    "payload['main']['temp'] - 273.15\n",
    "payload"
   ]
  }
 ],
 "metadata": {
  "kernelspec": {
   "display_name": "Python 3",
   "language": "python",
   "name": "python3"
  },
  "language_info": {
   "codemirror_mode": {
    "name": "ipython",
    "version": 3
   },
   "file_extension": ".py",
   "mimetype": "text/x-python",
   "name": "python",
   "nbconvert_exporter": "python",
   "pygments_lexer": "ipython3",
   "version": "3.8.0"
  },
  "orig_nbformat": 4
 },
 "nbformat": 4,
 "nbformat_minor": 2
}
